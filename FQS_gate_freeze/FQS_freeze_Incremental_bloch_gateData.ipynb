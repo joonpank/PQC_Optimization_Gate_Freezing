{
 "cells": [
  {
   "cell_type": "code",
   "execution_count": 11,
   "metadata": {},
   "outputs": [],
   "source": [
    "import pennylane as qml\n",
    "import numpy as np\n",
    "from pennylane import numpy as pnp\n",
    "from matplotlib import pyplot as plt\n",
    "from pennylane.operation import Operation, AnyWires\n",
    "import os\n",
    "import pandas as pd\n",
    "import scipy.special as sp\n",
    "import math\n",
    "from scipy.stats import uniform_direction\n",
    "from scipy.linalg import logm, svd\n",
    "\n",
    "num_qubits = 5\n",
    "\n",
    "# Initialize the device\n",
    "dev = qml.device(\"default.qubit\", wires=num_qubits)\n",
    "dev2 = qml.device(\"default.qubit\", wires=1)"
   ]
  },
  {
   "cell_type": "code",
   "execution_count": 12,
   "metadata": {},
   "outputs": [],
   "source": [
    "# Construct the Hamiltonian terms\n",
    "Hamiltonian_terms = []\n",
    "\n",
    "# Interaction terms: XiX(i+1) + YiY(i+1) + ZiZ(i+1)\n",
    "for i in range(num_qubits):\n",
    "    Hamiltonian_terms.append(1.0 * (qml.PauliX(i) @ qml.PauliX((i+1)%num_qubits)) +\n",
    "                                    (qml.PauliY(i) @ qml.PauliY((i+1)%num_qubits)) \n",
    "                                    + (qml.PauliZ(i) @ qml.PauliZ((i+1)%num_qubits)))\n",
    "\n",
    "# Magnetic field terms: hZi\n",
    "for i in range(num_qubits):\n",
    "    Hamiltonian_terms.append(1.0 * qml.PauliZ(i))\n",
    "\n",
    "# Define the Hamiltonian\n",
    "Hamiltonian_operator = qml.Hamiltonian(coeffs=[1] * len(Hamiltonian_terms), observables=Hamiltonian_terms)"
   ]
  },
  {
   "cell_type": "code",
   "execution_count": 13,
   "metadata": {},
   "outputs": [],
   "source": [
    "Hamiltonian = qml.Hamiltonian(coeffs=[1] * len(Hamiltonian_terms), observables=Hamiltonian_terms)"
   ]
  },
  {
   "cell_type": "code",
   "execution_count": 14,
   "metadata": {},
   "outputs": [],
   "source": [
    "\n",
    "\n",
    "class fqs_op(qml.operation.Operation):\n",
    "    num_params = 1\n",
    "    num_wires = qml.operation.AnyWires\n",
    "    par_domain = \"R\"\n",
    "\n",
    "    @staticmethod\n",
    "    def compute_matrix(axis):  # theta is the rotation angle\n",
    "        \"\"\"Custom operation for free-axis rotation\"\"\"\n",
    "        q0, q1, q2, q3 = axis\n",
    "        H = qml.sum(q0 * qml.Identity(AnyWires),  - 1j * q1 * qml.X(AnyWires), -1j * q2 * qml.Y(AnyWires), -1j * q3 * qml.Z(AnyWires))\n",
    "        \n",
    "        return H.matrix()"
   ]
  },
  {
   "cell_type": "code",
   "execution_count": 15,
   "metadata": {},
   "outputs": [],
   "source": [
    "\n",
    "def entangling_layer_ladderZ(num_qubits):\n",
    "    m = 0\n",
    "    n = 1\n",
    "    while m+1 < num_qubits:\n",
    "        qml.CZ(wires=[m,m+1])\n",
    "        m+=2\n",
    "    \n",
    "    while n+1 < num_qubits:\n",
    "        qml.CZ(wires=[n,n+1])\n",
    "        n+=2\n",
    "\n",
    "\n",
    "@qml.qnode(dev)\n",
    "def circuit(n_vectors, num_layers):\n",
    "    \"\"\"Parameterized quantum circuit with free-axis rotations\"\"\"\n",
    "    \n",
    "    for j in range(num_layers):\n",
    "        for k in range(num_qubits):\n",
    "            fqs_op(n_vectors[k + num_qubits * j], wires = k)\n",
    "    \n",
    "        entangling_layer_ladderZ(num_qubits)\n",
    "\n",
    "    return qml.expval(Hamiltonian)\n",
    "\n",
    "@qml.qnode(dev)\n",
    "def circuit_state(n_vectors, num_layers, d, gate_type):\n",
    "    \"\"\"Parameterized quantum circuit with free-axis rotations\"\"\"\n",
    "    \n",
    "    ind = 0\n",
    "\n",
    "    for j in range(num_layers):\n",
    "    \n",
    "        for k in range(num_qubits):\n",
    "\n",
    "            if ind == d:\n",
    "                if gate_type == \"X\":\n",
    "                    fqs_op([0,1,0,0], wires=k)\n",
    "\n",
    "                elif gate_type == \"Y\":\n",
    "                    fqs_op([0,0,1,0], wires=k)\n",
    "\n",
    "                elif gate_type == \"Z\":\n",
    "                    fqs_op([0,0,0,1], wires=k)\n",
    "\n",
    "                elif gate_type == \"XY\":\n",
    "                    fqs_op([0, 1/np.sqrt(2), 1/np.sqrt(2), 0], wires=k)\n",
    "   \n",
    "                elif gate_type == \"XZ\":\n",
    "                    fqs_op([0, 1/np.sqrt(2), 0, 1/np.sqrt(2)], wires=k)\n",
    "\n",
    "                elif gate_type == \"YZ\":\n",
    "                    fqs_op([0, 0, 1/np.sqrt(2), 1/np.sqrt(2)], wires=k)\n",
    "                \n",
    "                elif gate_type == \"I\":\n",
    "                    fqs_op([1,0,0,0], wires=k)\n",
    "\n",
    "                elif gate_type == \"I_X\":\n",
    "                    fqs_op([1/np.sqrt(2), 1/np.sqrt(2), 0, 0], wires=k)\n",
    "\n",
    "                elif gate_type == \"I_Y\":\n",
    "                    fqs_op([1/np.sqrt(2),0, 1/np.sqrt(2), 0], wires=k)\n",
    "                \n",
    "                elif gate_type == \"I_Z\":\n",
    "                    fqs_op([1/np.sqrt(2),0,0, 1/np.sqrt(2)], wires=k)\n",
    "\n",
    "            else:\n",
    "                fqs_op(n_vectors[k + num_qubits * j], wires = k)\n",
    "\n",
    "            ind += 1\n",
    "    \n",
    "        entangling_layer_ladderZ(num_qubits)\n",
    "\n",
    "    \n",
    "    return qml.expval(Hamiltonian)\n"
   ]
  },
  {
   "cell_type": "code",
   "execution_count": 16,
   "metadata": {},
   "outputs": [],
   "source": [
    "\n",
    "def compute_fqs_matrix(n_vectors, num_layers, d):\n",
    "    \"\"\"Compute the fqs matrix for a specific gate d\"\"\"\n",
    "\n",
    "    rx = circuit_state(n_vectors, num_layers, d, gate_type=\"X\")\n",
    "    ry = circuit_state(n_vectors, num_layers, d, gate_type=\"Y\")\n",
    "    rz = circuit_state(n_vectors, num_layers, d, gate_type=\"Z\")\n",
    "    \n",
    "    rxy = circuit_state(n_vectors, num_layers, d, gate_type=\"XY\")\n",
    "    rxz = circuit_state(n_vectors, num_layers, d, gate_type=\"XZ\")\n",
    "    ryz = circuit_state(n_vectors, num_layers, d, gate_type=\"YZ\")\n",
    "    \n",
    "    Id = circuit_state(n_vectors, num_layers, d, gate_type=\"I\")\n",
    "    Id_x = circuit_state(n_vectors, num_layers, d, gate_type=\"I_X\")\n",
    "    Id_y = circuit_state(n_vectors, num_layers, d, gate_type=\"I_Y\")\n",
    "    Id_z = circuit_state(n_vectors, num_layers, d, gate_type=\"I_Z\")\n",
    "    \n",
    "    #print(Id_z)\n",
    "\n",
    "\n",
    "    matrix = [[Id             , Id_x-rx/2-Id/2, Id_y-ry/2-Id/2, Id_z-rz/2-Id/2],\n",
    "                [Id_x-rx/2-Id/2,  rx            , (2*rxy-rx-ry)/2, (2*rxz-rx-rz)/2],\n",
    "                [Id_y-ry/2-Id/2, (2*rxy-rx-ry)/2,  ry            , (2*ryz-ry-rz)/2],\n",
    "                [Id_z-rz/2-Id/2, (2*rxz-rx-rz)/2, (2*ryz-ry-rz)/2,  rz            ]]\n",
    "\n",
    "    return matrix\n",
    "\n"
   ]
  },
  {
   "cell_type": "code",
   "execution_count": 17,
   "metadata": {},
   "outputs": [],
   "source": [
    "Id = np.matrix([[1,0],\n",
    "               [0,1]])\n",
    "\n",
    "X = np.matrix([[0,1],\n",
    "               [1,0]])\n",
    "\n",
    "Y = np.matrix([[0,-1j],\n",
    "               [1j,0]])\n",
    "\n",
    "Z = np.matrix([[1,0],\n",
    "               [0,-1]])"
   ]
  },
  {
   "cell_type": "code",
   "execution_count": null,
   "metadata": {},
   "outputs": [],
   "source": [
    "\n",
    "def quaternion_to_unitary(q):\n",
    "    U = q[0] * Id - 1j * q[1] * X - 1j * q[2] * Y - 1j * q[3] * Z\n",
    "    return U\n",
    "\n",
    "def is_unitary(U):\n",
    "    return np.allclose(U.conj().T @ U, np.eye(U.shape[0]))\n",
    "\n",
    "def spectral_norm_distance(U, V):\n",
    "    diff = U - V\n",
    "    return svd(diff, compute_uv=False)[0]  # Largest singular value\n",
    "\n",
    "def frobenius_distance(U, V):\n",
    "    diff = U - V\n",
    "    return np.linalg.norm(diff, 'fro')\n",
    "\n",
    "def bloch_dist(U, V):\n",
    "    inner_product = np.trace(U.conj().T @ V)\n",
    "    #angle = np.arccos(np.clip(np.real(inner_product) / 2, -1.0, 1.0))\n",
    "    dist = np.sqrt(2.0 - np.abs(inner_product))\n",
    "    \n",
    "    return dist\n"
   ]
  },
  {
   "cell_type": "code",
   "execution_count": 19,
   "metadata": {},
   "outputs": [],
   "source": [
    "\n",
    "\n",
    "def free_quaternion_selection(n_vectors, num_layers, iters, freeze_threshold, freeze_iters_k):\n",
    "    \"\"\"Implement the Fraxis algorithm\"\"\"\n",
    "\n",
    "    num_gates = len(n_vectors)\n",
    "\n",
    "    all_vals = []\n",
    "\n",
    "    freeze_counters = np.zeros(len(n_vectors))    \n",
    "    \n",
    "    gate_opts_tresh = num_qubits * num_layers * iters \n",
    "    gate_opts = 0\n",
    "    \n",
    "    while True:\n",
    "\n",
    "        if gate_opts > gate_opts_tresh:\n",
    "            break\n",
    "\n",
    "        for d in range(num_gates):\n",
    "            \n",
    "            if gate_opts > gate_opts_tresh:\n",
    "                break\n",
    "            \n",
    "            if freeze_counters[d] > 0:\n",
    "                freeze_counters[d] = freeze_counters[d] - 1\n",
    "                #print(d)\n",
    "                continue\n",
    "\n",
    "            prev_q = np.array(n_vectors[d].copy())\n",
    "\n",
    "            current_val = circuit(n_vectors, num_layers)\n",
    "\n",
    "            # Use this for ideal simulator\n",
    "            if len(all_vals) > 0:\n",
    "                if current_val > all_vals[-1] or current_val < min(Hamiltonian.eigvals()):\n",
    "                    all_vals.append(all_vals[-1])\n",
    "                else:\n",
    "                    all_vals.append(current_val)\n",
    "            else:\n",
    "                all_vals.append(current_val)\n",
    "            \n",
    "            fqs_matrix = compute_fqs_matrix(n_vectors, num_layers, d)        \n",
    "\n",
    "            eigVal, eigVec = np.linalg.eig(fqs_matrix)\n",
    "            eigVec = np.transpose(eigVec)\n",
    "\n",
    "            sid = np.argmin(eigVal)\n",
    "            expected_val = np.amin(eigVal)\n",
    "            \n",
    "            if expected_val < current_val:\n",
    "                n_vectors[d]  = eigVec[sid]\n",
    "\n",
    "            current_q = np.array(n_vectors[d].copy())\n",
    "\n",
    "            prev_unitary =  quaternion_to_unitary(prev_q)\n",
    "            current_unitary = quaternion_to_unitary(current_q)\n",
    "\n",
    "            bloch_dist_normalized = bloch_dist(prev_unitary, current_unitary) / np.sqrt(2.0)\n",
    "\n",
    "            if (bloch_dist_normalized < freeze_threshold):\n",
    "                #freeze_counters[d] = freeze_iters_k[d]\n",
    "                freeze_iters_k[d] += 1\n",
    "                #print(\"Freeze d,\", d)\n",
    "                \n",
    "            gate_opts += 1\n",
    "\n",
    "    return n_vectors, all_vals, freeze_iters_k \n",
    "\n"
   ]
  },
  {
   "cell_type": "code",
   "execution_count": null,
   "metadata": {},
   "outputs": [],
   "source": []
  },
  {
   "cell_type": "code",
   "execution_count": 20,
   "metadata": {},
   "outputs": [
    {
     "name": "stdout",
     "output_type": "stream",
     "text": [
      "trials 1\n",
      "trials 2\n"
     ]
    },
    {
     "name": "stderr",
     "output_type": "stream",
     "text": [
      "C:\\Users\\joonp\\AppData\\Local\\Temp\\ipykernel_3400\\1836410383.py:50: ComplexWarning: Casting complex values to real discards the imaginary part\n",
      "  n_vectors[d]  = eigVec[sid]\n"
     ]
    },
    {
     "name": "stdout",
     "output_type": "stream",
     "text": [
      "trials 3\n",
      "trials 4\n",
      "trials 5\n"
     ]
    },
    {
     "name": "stderr",
     "output_type": "stream",
     "text": [
      "C:\\Users\\joonp\\AppData\\Local\\Temp\\ipykernel_3400\\1836410383.py:50: ComplexWarning: Casting complex values to real discards the imaginary part\n",
      "  n_vectors[d]  = eigVec[sid]\n"
     ]
    },
    {
     "name": "stdout",
     "output_type": "stream",
     "text": [
      "trials 6\n",
      "trials 7\n",
      "trials 1\n",
      "trials 2\n",
      "trials 3\n"
     ]
    },
    {
     "name": "stderr",
     "output_type": "stream",
     "text": [
      "C:\\Users\\joonp\\AppData\\Local\\Temp\\ipykernel_3400\\1836410383.py:50: ComplexWarning: Casting complex values to real discards the imaginary part\n",
      "  n_vectors[d]  = eigVec[sid]\n"
     ]
    },
    {
     "name": "stdout",
     "output_type": "stream",
     "text": [
      "trials 4\n",
      "trials 5\n",
      "trials 6\n"
     ]
    },
    {
     "name": "stderr",
     "output_type": "stream",
     "text": [
      "C:\\Users\\joonp\\AppData\\Local\\Temp\\ipykernel_3400\\1836410383.py:50: ComplexWarning: Casting complex values to real discards the imaginary part\n",
      "  n_vectors[d]  = eigVec[sid]\n"
     ]
    },
    {
     "name": "stdout",
     "output_type": "stream",
     "text": [
      "trials 7\n",
      "trials 8\n"
     ]
    },
    {
     "name": "stderr",
     "output_type": "stream",
     "text": [
      "C:\\Users\\joonp\\AppData\\Local\\Temp\\ipykernel_3400\\1836410383.py:50: ComplexWarning: Casting complex values to real discards the imaginary part\n",
      "  n_vectors[d]  = eigVec[sid]\n"
     ]
    },
    {
     "name": "stdout",
     "output_type": "stream",
     "text": [
      "trials 9\n",
      "trials 10\n",
      "trials 11\n",
      "trials 12\n",
      "trials 13\n",
      "trials 14\n"
     ]
    },
    {
     "name": "stderr",
     "output_type": "stream",
     "text": [
      "C:\\Users\\joonp\\AppData\\Local\\Temp\\ipykernel_3400\\1836410383.py:50: ComplexWarning: Casting complex values to real discards the imaginary part\n",
      "  n_vectors[d]  = eigVec[sid]\n"
     ]
    },
    {
     "name": "stdout",
     "output_type": "stream",
     "text": [
      "trials 15\n"
     ]
    },
    {
     "name": "stderr",
     "output_type": "stream",
     "text": [
      "C:\\Users\\joonp\\AppData\\Local\\Temp\\ipykernel_3400\\1836410383.py:50: ComplexWarning: Casting complex values to real discards the imaginary part\n",
      "  n_vectors[d]  = eigVec[sid]\n"
     ]
    },
    {
     "name": "stdout",
     "output_type": "stream",
     "text": [
      "trials 16\n",
      "trials 17\n",
      "trials 18\n"
     ]
    },
    {
     "name": "stderr",
     "output_type": "stream",
     "text": [
      "C:\\Users\\joonp\\AppData\\Local\\Temp\\ipykernel_3400\\1836410383.py:50: ComplexWarning: Casting complex values to real discards the imaginary part\n",
      "  n_vectors[d]  = eigVec[sid]\n"
     ]
    },
    {
     "name": "stdout",
     "output_type": "stream",
     "text": [
      "trials 19\n",
      "trials 20\n",
      "trials 21\n",
      "trials 1\n",
      "trials 2\n",
      "trials 3\n"
     ]
    },
    {
     "name": "stderr",
     "output_type": "stream",
     "text": [
      "C:\\Users\\joonp\\AppData\\Local\\Temp\\ipykernel_3400\\1836410383.py:50: ComplexWarning: Casting complex values to real discards the imaginary part\n",
      "  n_vectors[d]  = eigVec[sid]\n"
     ]
    },
    {
     "name": "stdout",
     "output_type": "stream",
     "text": [
      "trials 4\n",
      "trials 5\n",
      "trials 6\n",
      "trials 7\n"
     ]
    },
    {
     "name": "stderr",
     "output_type": "stream",
     "text": [
      "C:\\Users\\joonp\\AppData\\Local\\Temp\\ipykernel_3400\\1836410383.py:50: ComplexWarning: Casting complex values to real discards the imaginary part\n",
      "  n_vectors[d]  = eigVec[sid]\n"
     ]
    },
    {
     "name": "stdout",
     "output_type": "stream",
     "text": [
      "trials 8\n",
      "trials 9\n"
     ]
    },
    {
     "name": "stderr",
     "output_type": "stream",
     "text": [
      "C:\\Users\\joonp\\AppData\\Local\\Temp\\ipykernel_3400\\1836410383.py:50: ComplexWarning: Casting complex values to real discards the imaginary part\n",
      "  n_vectors[d]  = eigVec[sid]\n"
     ]
    },
    {
     "name": "stdout",
     "output_type": "stream",
     "text": [
      "trials 10\n"
     ]
    },
    {
     "name": "stderr",
     "output_type": "stream",
     "text": [
      "C:\\Users\\joonp\\AppData\\Local\\Temp\\ipykernel_3400\\1836410383.py:50: ComplexWarning: Casting complex values to real discards the imaginary part\n",
      "  n_vectors[d]  = eigVec[sid]\n"
     ]
    },
    {
     "name": "stdout",
     "output_type": "stream",
     "text": [
      "trials 11\n",
      "trials 12\n"
     ]
    },
    {
     "name": "stderr",
     "output_type": "stream",
     "text": [
      "C:\\Users\\joonp\\AppData\\Local\\Temp\\ipykernel_3400\\1836410383.py:50: ComplexWarning: Casting complex values to real discards the imaginary part\n",
      "  n_vectors[d]  = eigVec[sid]\n"
     ]
    },
    {
     "name": "stdout",
     "output_type": "stream",
     "text": [
      "trials 13\n"
     ]
    },
    {
     "name": "stderr",
     "output_type": "stream",
     "text": [
      "C:\\Users\\joonp\\AppData\\Local\\Temp\\ipykernel_3400\\1836410383.py:50: ComplexWarning: Casting complex values to real discards the imaginary part\n",
      "  n_vectors[d]  = eigVec[sid]\n"
     ]
    },
    {
     "name": "stdout",
     "output_type": "stream",
     "text": [
      "trials 14\n",
      "trials 15\n",
      "trials 16\n"
     ]
    },
    {
     "name": "stderr",
     "output_type": "stream",
     "text": [
      "C:\\Users\\joonp\\AppData\\Local\\Temp\\ipykernel_3400\\1836410383.py:50: ComplexWarning: Casting complex values to real discards the imaginary part\n",
      "  n_vectors[d]  = eigVec[sid]\n"
     ]
    },
    {
     "name": "stdout",
     "output_type": "stream",
     "text": [
      "trials 17\n"
     ]
    },
    {
     "name": "stderr",
     "output_type": "stream",
     "text": [
      "C:\\Users\\joonp\\AppData\\Local\\Temp\\ipykernel_3400\\1836410383.py:50: ComplexWarning: Casting complex values to real discards the imaginary part\n",
      "  n_vectors[d]  = eigVec[sid]\n"
     ]
    },
    {
     "name": "stdout",
     "output_type": "stream",
     "text": [
      "trials 18\n",
      "trials 19\n",
      "trials 20\n",
      "trials 21\n",
      "trials 22\n",
      "trials 23\n",
      "trials 24\n",
      "trials 25\n",
      "trials 1\n",
      "trials 2\n",
      "trials 3\n",
      "trials 4\n",
      "trials 5\n",
      "trials 6\n"
     ]
    },
    {
     "name": "stderr",
     "output_type": "stream",
     "text": [
      "C:\\Users\\joonp\\AppData\\Local\\Temp\\ipykernel_3400\\1836410383.py:50: ComplexWarning: Casting complex values to real discards the imaginary part\n",
      "  n_vectors[d]  = eigVec[sid]\n"
     ]
    },
    {
     "name": "stdout",
     "output_type": "stream",
     "text": [
      "trials 7\n"
     ]
    },
    {
     "name": "stderr",
     "output_type": "stream",
     "text": [
      "C:\\Users\\joonp\\AppData\\Local\\Temp\\ipykernel_3400\\1836410383.py:50: ComplexWarning: Casting complex values to real discards the imaginary part\n",
      "  n_vectors[d]  = eigVec[sid]\n"
     ]
    },
    {
     "name": "stdout",
     "output_type": "stream",
     "text": [
      "trials 8\n",
      "trials 9\n",
      "trials 10\n",
      "trials 11\n",
      "trials 12\n",
      "trials 13\n",
      "trials 14\n",
      "trials 15\n",
      "trials 16\n",
      "trials 17\n"
     ]
    },
    {
     "name": "stderr",
     "output_type": "stream",
     "text": [
      "C:\\Users\\joonp\\AppData\\Local\\Temp\\ipykernel_3400\\1836410383.py:50: ComplexWarning: Casting complex values to real discards the imaginary part\n",
      "  n_vectors[d]  = eigVec[sid]\n"
     ]
    },
    {
     "name": "stdout",
     "output_type": "stream",
     "text": [
      "trials 18\n",
      "trials 19\n",
      "trials 20\n",
      "trials 21\n"
     ]
    },
    {
     "name": "stderr",
     "output_type": "stream",
     "text": [
      "C:\\Users\\joonp\\AppData\\Local\\Temp\\ipykernel_3400\\1836410383.py:50: ComplexWarning: Casting complex values to real discards the imaginary part\n",
      "  n_vectors[d]  = eigVec[sid]\n"
     ]
    },
    {
     "name": "stdout",
     "output_type": "stream",
     "text": [
      "trials 22\n",
      "trials 23\n",
      "trials 24\n",
      "trials 25\n",
      "trials 26\n",
      "trials 27\n",
      "trials 28\n",
      "trials 29\n",
      "trials 30\n"
     ]
    }
   ],
   "source": [
    "# Initialize parameters and run optimization\n",
    "layers = [3]\n",
    "iters = 30\n",
    "\n",
    "trials = 50\n",
    "\n",
    "hs_vals = [0.01, 0.005, 0.025, 0.001]\n",
    "uniform_sphere_dist = uniform_direction(4)\n",
    "\n",
    "for hs_val in hs_vals:\n",
    "    # freeze threshold as the angle \n",
    "    freeze_threshold = hs_val\n",
    "    \n",
    "    for num_layers in layers:\n",
    "        for trial in range(trials):\n",
    "            print(\"trials\", trial+1)\n",
    "            num_gates = num_qubits * num_layers\n",
    "            freeze_iters = np.ones(num_gates)\n",
    "\n",
    "            n_vectors = uniform_sphere_dist.rvs(num_gates)\n",
    "            \n",
    "            optimal_n_vectors, opt_vals, freeze_iters = free_quaternion_selection(n_vectors, num_layers, iters, freeze_threshold, freeze_iters)\n",
    "            #print(freeze_iters_k)\n",
    "            \n",
    "            file2 = f\"BlochDist_gateData_1DHeisenberg_{num_qubits}Q_FQS_GateFreeze_Val{hs_val}_FreezeIterInc_{iters}cycles_{num_layers}layers_{trials}trials_A.xlsx\"      \n",
    "            \n",
    "            if not os.path.exists(file2):\n",
    "                df2 = pd.DataFrame()\n",
    "                df2.to_excel(file2)\n",
    "\n",
    "            df2 = pd.read_excel(file2)\n",
    "\n",
    "            if len(df2.columns) < trials:\n",
    "                \n",
    "                df2[f\"col{len(df2.columns)}\"] = pd.Series(freeze_iters)\n",
    "                df2.to_excel(file2,index = False)\n",
    "            else:\n",
    "                break\n",
    "                \n",
    "\n"
   ]
  },
  {
   "cell_type": "code",
   "execution_count": 21,
   "metadata": {},
   "outputs": [
    {
     "name": "stdout",
     "output_type": "stream",
     "text": [
      "0: ──fqs_op(M0)─╭●──fqs_op(M5)─────────────╭●──fqs_op(M10)──────────────╭●────┤ ╭<𝓗>\n",
      "1: ──fqs_op(M1)─╰Z─╭●───────────fqs_op(M6)─╰Z─╭●────────────fqs_op(M11)─╰Z─╭●─┤ ├<𝓗>\n",
      "2: ──fqs_op(M2)─╭●─╰Z───────────fqs_op(M7)─╭●─╰Z────────────fqs_op(M12)─╭●─╰Z─┤ ├<𝓗>\n",
      "3: ──fqs_op(M3)─╰Z─╭●───────────fqs_op(M8)─╰Z─╭●────────────fqs_op(M13)─╰Z─╭●─┤ ├<𝓗>\n",
      "4: ──fqs_op(M4)────╰Z───────────fqs_op(M9)────╰Z────────────fqs_op(M14)────╰Z─┤ ╰<𝓗>\n",
      "\n",
      "M0 = \n",
      "[0.05773767 0.12080961 0.64872449 0.74915148]\n",
      "M1 = \n",
      "[ 0.29691982 -0.25679618 -0.35090674  0.85015222]\n",
      "M2 = \n",
      "[-0.36554494 -0.22176514  0.51311058 -0.74425443]\n",
      "M3 = \n",
      "[-0.12525196 -0.23169869  0.96152093  0.07813559]\n",
      "M4 = \n",
      "[-0.78372985 -0.15635386  0.28773197  0.52776065]\n",
      "M5 = \n",
      "[-0.0828286  -0.44845438 -0.88342519 -0.1076477 ]\n",
      "M6 = \n",
      "[-0.33028116  0.69996453  0.21030917 -0.59727219]\n",
      "M7 = \n",
      "[-0.33118813  0.8422957  -0.35944844  0.2272646 ]\n",
      "M8 = \n",
      "[-0.68825569 -0.04438652 -0.71783967  0.09507968]\n",
      "M9 = \n",
      "[ 0.75419632 -0.28132784  0.10061844 -0.58473796]\n",
      "M10 = \n",
      "[-0.14950958 -0.31925706 -0.88106944  0.31533865]\n",
      "M11 = \n",
      "[-0.62378818  0.48232629  0.39811203  0.4687819 ]\n",
      "M12 = \n",
      "[ 0.75594922 -0.00291844  0.00381182  0.65461266]\n",
      "M13 = \n",
      "[-0.16101582 -0.56200794  0.27365399 -0.76376337]\n",
      "M14 = \n",
      "[ 0.00481547 -0.82872723  0.55929481  0.01942454]\n"
     ]
    }
   ],
   "source": [
    "print(qml.draw(circuit)(n_vectors, num_layers))\n"
   ]
  },
  {
   "cell_type": "code",
   "execution_count": null,
   "metadata": {},
   "outputs": [],
   "source": []
  }
 ],
 "metadata": {
  "kernelspec": {
   "display_name": "Python 3",
   "language": "python",
   "name": "python3"
  },
  "language_info": {
   "codemirror_mode": {
    "name": "ipython",
    "version": 3
   },
   "file_extension": ".py",
   "mimetype": "text/x-python",
   "name": "python",
   "nbconvert_exporter": "python",
   "pygments_lexer": "ipython3",
   "version": "3.11.9"
  }
 },
 "nbformat": 4,
 "nbformat_minor": 4
}
