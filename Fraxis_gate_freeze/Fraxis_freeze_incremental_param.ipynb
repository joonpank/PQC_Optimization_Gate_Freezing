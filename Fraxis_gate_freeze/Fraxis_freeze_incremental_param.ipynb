{
 "cells": [
  {
   "cell_type": "code",
   "execution_count": 1,
   "metadata": {},
   "outputs": [],
   "source": [
    "import pennylane as qml\n",
    "import numpy as np\n",
    "from pennylane import numpy as pnp\n",
    "from matplotlib import pyplot as plt\n",
    "from pennylane.operation import Operation, AnyWires\n",
    "import os\n",
    "import pandas as pd\n",
    "import matplotlib.cm as cm\n",
    "import math\n",
    "\n",
    "num_qubits = 5\n",
    "\n",
    "# Initialize the device\n",
    "dev = qml.device(\"default.qubit\", wires=num_qubits)"
   ]
  },
  {
   "cell_type": "code",
   "execution_count": 2,
   "metadata": {},
   "outputs": [],
   "source": [
    "# Construct the Hamiltonian terms\n",
    "Hamiltonian_terms = []\n",
    "\n",
    "# Interaction terms: XiX(i+1) + YiY(i+1) + ZiZ(i+1)\n",
    "for i in range(num_qubits):\n",
    "    Hamiltonian_terms.append(1.0 * (qml.PauliX(i) @ qml.PauliX((i+1)%num_qubits)) +\n",
    "                                    (qml.PauliY(i) @ qml.PauliY((i+1)%num_qubits)) \n",
    "                                    + (qml.PauliZ(i) @ qml.PauliZ((i+1)%num_qubits)))\n",
    "\n",
    "# Magnetic field terms: hZi\n",
    "for i in range(num_qubits):\n",
    "    Hamiltonian_terms.append(1.0 * qml.PauliZ(i))\n",
    "\n",
    "# Define the Hamiltonian\n",
    "Hamiltonian_operator = qml.Hamiltonian(coeffs=[1] * len(Hamiltonian_terms), observables=Hamiltonian_terms)"
   ]
  },
  {
   "cell_type": "code",
   "execution_count": 3,
   "metadata": {},
   "outputs": [],
   "source": [
    "Hamiltonian = qml.Hamiltonian(coeffs=[1] * len(Hamiltonian_terms), observables=Hamiltonian_terms)"
   ]
  },
  {
   "cell_type": "code",
   "execution_count": 4,
   "metadata": {},
   "outputs": [],
   "source": [
    "\n",
    "class fraxis_op(qml.operation.Operation):\n",
    "    num_params = 1\n",
    "    num_wires = qml.operation.AnyWires\n",
    "    par_domain = \"R\"\n",
    "\n",
    "    @staticmethod\n",
    "    def compute_matrix(axis): \n",
    "        \"\"\"Custom operation for free-axis rotation\"\"\"\n",
    "        x, y, z = axis\n",
    "        op = - 1j * qml.sum(x * qml.X(AnyWires), y * qml.Y(AnyWires), z * qml.Z(AnyWires))\n",
    "\n",
    "        return op.matrix()"
   ]
  },
  {
   "cell_type": "code",
   "execution_count": 5,
   "metadata": {},
   "outputs": [],
   "source": [
    "\n",
    "\n",
    "def entangling_layer_ladderZ(num_qubits):\n",
    "    m = 0\n",
    "    n = 1\n",
    "    while m+1 < num_qubits:\n",
    "        qml.CZ(wires=[m,m+1])\n",
    "        m+=2\n",
    "    \n",
    "    while n+1 < num_qubits:\n",
    "        qml.CZ(wires=[n,n+1])\n",
    "        n+=2\n",
    "\n",
    "@qml.qnode(dev)\n",
    "def circuit(n_vectors, num_layers):\n",
    "    \"\"\"Parameterized quantum circuit with free-axis rotations\"\"\"\n",
    "    \n",
    "    for j in range(num_layers):\n",
    "        for k in range(num_qubits):\n",
    "            fraxis_op(n_vectors[k + num_qubits * j], wires = k)\n",
    "    \n",
    "        entangling_layer_ladderZ(num_qubits)\n",
    "\n",
    "    return qml.expval(Hamiltonian)\n",
    "\n",
    "@qml.qnode(dev)\n",
    "def circuit_state(n_vectors, num_layers, d, gate_type):\n",
    "    \"\"\"Parameterized quantum circuit with free-axis rotations\"\"\"\n",
    "    ind = 0\n",
    "    for j in range(num_layers):\n",
    "        for k in range(num_qubits):\n",
    "            if ind == d:\n",
    "                if gate_type == \"X\":\n",
    "                    fraxis_op([1,0,0], wires=k)\n",
    "\n",
    "                elif gate_type == \"Y\":\n",
    "                    fraxis_op([0,1,0], wires=k)\n",
    "\n",
    "                elif gate_type == \"Z\":\n",
    "                    fraxis_op([0,0,1], wires=k)\n",
    "\n",
    "                elif gate_type == \"XY\":\n",
    "                    fraxis_op([1/np.sqrt(2), 1/np.sqrt(2), 0], wires=k)\n",
    "   \n",
    "                elif gate_type == \"XZ\":\n",
    "                    fraxis_op([1/np.sqrt(2), 0, 1/np.sqrt(2)], wires=k)\n",
    "\n",
    "                elif gate_type == \"YZ\":\n",
    "                    fraxis_op([0, 1/np.sqrt(2), 1/np.sqrt(2)], wires=k)\n",
    "\n",
    "            else:\n",
    "                fraxis_op(n_vectors[k + num_qubits * j], wires = k)\n",
    "\n",
    "            ind += 1\n",
    "    \n",
    "        entangling_layer_ladderZ(num_qubits)\n",
    "\n",
    "    \n",
    "    return qml.expval(Hamiltonian)\n"
   ]
  },
  {
   "cell_type": "code",
   "execution_count": 6,
   "metadata": {},
   "outputs": [],
   "source": [
    "\n",
    "def compute_Rd_matrix(n_vectors, num_layers, d):\n",
    "    \"\"\"Compute the Rd matrix for a specific gate d\"\"\"\n",
    "\n",
    "    rx = circuit_state(n_vectors, num_layers, d, gate_type=\"X\")\n",
    "    ry = circuit_state(n_vectors, num_layers, d, gate_type=\"Y\")\n",
    "    rz = circuit_state(n_vectors, num_layers, d, gate_type=\"Z\")\n",
    "    rxy = circuit_state(n_vectors, num_layers, d, gate_type=\"XY\")\n",
    "    rxz = circuit_state(n_vectors, num_layers, d, gate_type=\"XZ\")\n",
    "    ryz = circuit_state(n_vectors, num_layers, d, gate_type=\"YZ\")\n",
    "    \n",
    "    Rd=[[2*rx,        2*rxy-rx-ry, 2*rxz-rx-rz],\n",
    "        [2*rxy-rx-ry,        2*ry, 2*ryz-ry-rz],\n",
    "        [2*rxz-rx-rz, 2*ryz-ry-rz,        2*rz]]\n",
    "\n",
    "    return Rd\n",
    "\n"
   ]
  },
  {
   "cell_type": "code",
   "execution_count": 7,
   "metadata": {},
   "outputs": [],
   "source": [
    "def compute_great_circle_dist(ax_prev, ax_current):\n",
    "\n",
    "    delta = np.linalg.norm(ax_prev - ax_current)\n",
    "    phi = math.asin((delta / 2.0))\n",
    "    gc_dist = 2*phi\n",
    "\n",
    "    return gc_dist"
   ]
  },
  {
   "cell_type": "code",
   "execution_count": 8,
   "metadata": {},
   "outputs": [],
   "source": [
    "\n",
    "\n",
    "def fraxis_optimization(n_vectors, num_layers, iters, freeze_threshold, freeze_iters):\n",
    "    \"\"\"Implement the Fraxis algorithm\"\"\"\n",
    "    num_gates = len(n_vectors)\n",
    "    vals = []\n",
    "    rotation_axes = []\n",
    "\n",
    "    freeze_counters = np.zeros(len(n_vectors))    \n",
    "    \n",
    "    gate_opts_tresh = num_qubits * num_layers * iters \n",
    "    gate_opts = 0\n",
    "\n",
    "    while True:\n",
    "        \n",
    "        if gate_opts > gate_opts_tresh:\n",
    "            break\n",
    "        \n",
    "        for d in range(num_gates):\n",
    "\n",
    "            if gate_opts > gate_opts_tresh:\n",
    "                break\n",
    "            \n",
    "            if freeze_counters[d] > 0:\n",
    "                freeze_counters[d] = freeze_counters[d] - 1\n",
    "                #print(d)\n",
    "                continue\n",
    "\n",
    "            prev_axis = np.array(n_vectors[d].copy())\n",
    "\n",
    "            current_val = circuit(n_vectors, num_layers)\n",
    "            vals.append(current_val)\n",
    "            Rd = compute_Rd_matrix(n_vectors, num_layers, d)        \n",
    "\n",
    "            eigVal, eigVec = np.linalg.eig(Rd)\n",
    "            eigVec = np.transpose(eigVec)\n",
    "\n",
    "            sid = np.argmin(eigVal)\n",
    "\n",
    "            expected_val = np.amin(eigVal)*0.5\n",
    "\n",
    "            new_vec = [eigVec[sid][0], eigVec[sid][1], eigVec[sid][2]] \n",
    "            \n",
    "            if expected_val < current_val:\n",
    "                n_vectors[d] = new_vec\n",
    "\n",
    "\n",
    "            current_axis = np.array(n_vectors[d].copy())\n",
    "\n",
    "            #gc_dist = compute_great_circle_dist(prev_axis, current_axis)\n",
    "            gc_dist = np.arccos(np.dot(prev_axis, current_axis))\n",
    "            \n",
    "            if gc_dist > np.pi/2.0:\n",
    "                gc_dist = np.pi - gc_dist\n",
    "            \n",
    "\n",
    "            if (gc_dist < freeze_threshold): #or (np.pi - gc_dist < freeze_threshold):\n",
    "                freeze_counters[d] = freeze_iters[d]\n",
    "                freeze_iters[d] += 1\n",
    "                #print(freeze_iters[d])\n",
    "                \n",
    "            gate_opts += 1\n",
    "\n",
    "        \n",
    "\n",
    "    return n_vectors, vals, rotation_axes, freeze_iters\n",
    "\n"
   ]
  },
  {
   "cell_type": "code",
   "execution_count": 9,
   "metadata": {},
   "outputs": [],
   "source": [
    "def sample_axis():\n",
    "    theta = np.random.uniform(0, np.pi)\n",
    "    phi = np.random.uniform(-np.pi, np.pi)\n",
    "\n",
    "    axis = [np.sin(theta) * np.cos(phi), np.sin(theta) * np.sin(phi), np.cos(theta)]\n",
    "\n",
    "    return axis"
   ]
  },
  {
   "cell_type": "code",
   "execution_count": 10,
   "metadata": {},
   "outputs": [
    {
     "name": "stdout",
     "output_type": "stream",
     "text": [
      "trials 1\n"
     ]
    },
    {
     "name": "stderr",
     "output_type": "stream",
     "text": [
      "C:\\Users\\joonp\\AppData\\Local\\Temp\\ipykernel_18036\\3708764483.py:49: RuntimeWarning: invalid value encountered in arccos\n",
      "  gc_dist = np.arccos(np.dot(prev_axis, current_axis))\n"
     ]
    },
    {
     "name": "stdout",
     "output_type": "stream",
     "text": [
      "[27. 27. 26. 27. 27. 27. 28. 27. 27. 27. 27. 27. 28. 27. 27. 27. 27. 27.\n",
      " 27. 27. 27. 27. 27. 27. 27.] \n",
      "\n",
      "trials 2\n"
     ]
    },
    {
     "name": "stderr",
     "output_type": "stream",
     "text": [
      "C:\\Users\\joonp\\AppData\\Local\\Temp\\ipykernel_18036\\3708764483.py:49: RuntimeWarning: invalid value encountered in arccos\n",
      "  gc_dist = np.arccos(np.dot(prev_axis, current_axis))\n"
     ]
    },
    {
     "name": "stdout",
     "output_type": "stream",
     "text": [
      "[37. 38. 36. 38. 38. 38. 37. 37. 37. 38. 37. 37. 38. 38. 38. 37. 37. 37.\n",
      " 38. 37. 38. 38. 38. 38. 38.] \n",
      "\n",
      "trials 3\n"
     ]
    },
    {
     "name": "stderr",
     "output_type": "stream",
     "text": [
      "C:\\Users\\joonp\\AppData\\Local\\Temp\\ipykernel_18036\\3708764483.py:49: RuntimeWarning: invalid value encountered in arccos\n",
      "  gc_dist = np.arccos(np.dot(prev_axis, current_axis))\n"
     ]
    },
    {
     "name": "stdout",
     "output_type": "stream",
     "text": [
      "[30. 29. 30. 27. 30. 29. 29. 30. 30. 29. 30. 30. 30. 30. 29. 30. 30. 29.\n",
      " 29. 29. 30. 30. 30. 29. 30.] \n",
      "\n",
      "trials 4\n",
      "[32. 33. 33. 33. 33. 32. 32. 32. 33. 33. 31. 33. 33. 33. 33. 32. 33. 32.\n",
      " 33. 32. 32. 33. 33. 32. 33.] \n",
      "\n",
      "trials 5\n"
     ]
    },
    {
     "name": "stderr",
     "output_type": "stream",
     "text": [
      "C:\\Users\\joonp\\AppData\\Local\\Temp\\ipykernel_18036\\3708764483.py:49: RuntimeWarning: invalid value encountered in arccos\n",
      "  gc_dist = np.arccos(np.dot(prev_axis, current_axis))\n"
     ]
    },
    {
     "name": "stdout",
     "output_type": "stream",
     "text": [
      "[33. 32. 32. 32. 32. 32. 33. 33. 33. 32. 33. 33. 33. 33. 33. 32. 32. 33.\n",
      " 32. 33. 32. 32. 32. 32. 32.] \n",
      "\n",
      "trials 6\n"
     ]
    },
    {
     "name": "stderr",
     "output_type": "stream",
     "text": [
      "C:\\Users\\joonp\\AppData\\Local\\Temp\\ipykernel_18036\\3708764483.py:49: RuntimeWarning: invalid value encountered in arccos\n",
      "  gc_dist = np.arccos(np.dot(prev_axis, current_axis))\n"
     ]
    },
    {
     "name": "stdout",
     "output_type": "stream",
     "text": [
      "[41. 41. 42. 41. 41. 41. 41. 41. 41. 41. 41. 41. 41. 41. 41. 41. 41. 41.\n",
      " 41. 41. 41. 41. 42. 41. 41.] \n",
      "\n",
      "trials 7\n"
     ]
    },
    {
     "name": "stderr",
     "output_type": "stream",
     "text": [
      "C:\\Users\\joonp\\AppData\\Local\\Temp\\ipykernel_18036\\3708764483.py:49: RuntimeWarning: invalid value encountered in arccos\n",
      "  gc_dist = np.arccos(np.dot(prev_axis, current_axis))\n"
     ]
    },
    {
     "name": "stdout",
     "output_type": "stream",
     "text": [
      "[40. 41. 41. 41. 40. 41. 41. 41. 41. 40. 41. 41. 41. 41. 41. 41. 41. 41.\n",
      " 41. 41. 41. 41. 41. 41. 41.] \n",
      "\n",
      "trials 1\n"
     ]
    },
    {
     "name": "stderr",
     "output_type": "stream",
     "text": [
      "C:\\Users\\joonp\\AppData\\Local\\Temp\\ipykernel_18036\\3708764483.py:49: RuntimeWarning: invalid value encountered in arccos\n",
      "  gc_dist = np.arccos(np.dot(prev_axis, current_axis))\n"
     ]
    },
    {
     "name": "stdout",
     "output_type": "stream",
     "text": [
      "[30. 31. 30. 30. 31. 31. 31. 30. 30. 30. 30. 31. 31. 30. 30. 29. 31. 30.\n",
      " 29. 29. 30. 31. 30. 30. 30.] \n",
      "\n",
      "trials 2\n"
     ]
    },
    {
     "name": "stderr",
     "output_type": "stream",
     "text": [
      "C:\\Users\\joonp\\AppData\\Local\\Temp\\ipykernel_18036\\3708764483.py:49: RuntimeWarning: invalid value encountered in arccos\n",
      "  gc_dist = np.arccos(np.dot(prev_axis, current_axis))\n"
     ]
    },
    {
     "name": "stdout",
     "output_type": "stream",
     "text": [
      "[30. 30. 30. 30. 29. 31. 30. 31. 30. 30. 30. 31. 31. 30. 30. 29. 31. 30.\n",
      " 30. 30. 31. 30. 31. 31. 30.] \n",
      "\n",
      "trials 3\n",
      "[22. 21. 22. 21. 23. 21. 21. 21. 20. 20. 21. 21. 22. 22. 22. 21. 22. 22.\n",
      " 21. 21. 22. 21. 22. 22. 22.] \n",
      "\n",
      "trials 4\n"
     ]
    },
    {
     "name": "stderr",
     "output_type": "stream",
     "text": [
      "C:\\Users\\joonp\\AppData\\Local\\Temp\\ipykernel_18036\\3708764483.py:49: RuntimeWarning: invalid value encountered in arccos\n",
      "  gc_dist = np.arccos(np.dot(prev_axis, current_axis))\n"
     ]
    },
    {
     "name": "stdout",
     "output_type": "stream",
     "text": [
      "[29. 30. 31. 30. 31. 31. 31. 31. 31. 31. 31. 31. 31. 31. 31. 31. 31. 31.\n",
      " 31. 31. 31. 31. 31. 31. 31.] \n",
      "\n",
      "trials 5\n"
     ]
    },
    {
     "name": "stderr",
     "output_type": "stream",
     "text": [
      "C:\\Users\\joonp\\AppData\\Local\\Temp\\ipykernel_18036\\3708764483.py:49: RuntimeWarning: invalid value encountered in arccos\n",
      "  gc_dist = np.arccos(np.dot(prev_axis, current_axis))\n"
     ]
    },
    {
     "name": "stdout",
     "output_type": "stream",
     "text": [
      "[25. 24. 25. 25. 23. 25. 24. 25. 24. 24. 25. 25. 25. 25. 24. 24. 24. 25.\n",
      " 24. 23. 24. 25. 24. 23. 23.] \n",
      "\n",
      "trials 6\n"
     ]
    },
    {
     "name": "stderr",
     "output_type": "stream",
     "text": [
      "C:\\Users\\joonp\\AppData\\Local\\Temp\\ipykernel_18036\\3708764483.py:49: RuntimeWarning: invalid value encountered in arccos\n",
      "  gc_dist = np.arccos(np.dot(prev_axis, current_axis))\n"
     ]
    },
    {
     "name": "stdout",
     "output_type": "stream",
     "text": [
      "[22. 21. 21. 22. 22. 20. 21. 22. 21. 22. 21. 22. 21. 20. 21. 21. 21. 22.\n",
      " 22. 21. 22. 22. 22. 22. 21.] \n",
      "\n",
      "trials 7\n"
     ]
    },
    {
     "name": "stderr",
     "output_type": "stream",
     "text": [
      "C:\\Users\\joonp\\AppData\\Local\\Temp\\ipykernel_18036\\3708764483.py:49: RuntimeWarning: invalid value encountered in arccos\n",
      "  gc_dist = np.arccos(np.dot(prev_axis, current_axis))\n"
     ]
    },
    {
     "name": "stdout",
     "output_type": "stream",
     "text": [
      "[26. 27. 27. 26. 27. 26. 26. 27. 26. 27. 27. 25. 27. 27. 26. 26. 25. 25.\n",
      " 26. 26. 26. 27. 26. 26. 27.] \n",
      "\n",
      "trials 8\n"
     ]
    },
    {
     "name": "stderr",
     "output_type": "stream",
     "text": [
      "C:\\Users\\joonp\\AppData\\Local\\Temp\\ipykernel_18036\\3708764483.py:49: RuntimeWarning: invalid value encountered in arccos\n",
      "  gc_dist = np.arccos(np.dot(prev_axis, current_axis))\n"
     ]
    },
    {
     "name": "stdout",
     "output_type": "stream",
     "text": [
      "[29. 31. 31. 30. 31. 30. 31. 31. 30. 31. 30. 31. 31. 30. 31. 30. 31. 30.\n",
      " 30. 31. 31. 31. 30. 30. 31.] \n",
      "\n",
      "trials 1\n",
      "[3. 1. 1. 3. 1. 1. 1. 3. 1. 1. 1. 2. 1. 1. 1. 1. 2. 1. 1. 2. 1. 1. 1. 1.\n",
      " 3.] \n",
      "\n",
      "trials 2\n",
      "[1. 6. 7. 1. 1. 1. 8. 7. 5. 1. 7. 6. 2. 4. 2. 4. 7. 1. 7. 5. 5. 5. 4. 3.\n",
      " 4.] \n",
      "\n",
      "trials 3\n",
      "[2. 1. 1. 1. 1. 1. 1. 4. 1. 8. 2. 1. 1. 1. 1. 1. 1. 4. 1. 1. 1. 1. 7. 1.\n",
      " 3.] \n",
      "\n",
      "trials 4\n",
      "[1. 1. 1. 1. 2. 1. 2. 3. 1. 1. 1. 1. 1. 1. 6. 1. 1. 1. 3. 1. 4. 1. 8. 3.\n",
      " 2.] \n",
      "\n",
      "trials 5\n",
      "[1. 1. 1. 3. 1. 1. 1. 4. 5. 8. 1. 1. 1. 2. 4. 2. 3. 4. 1. 2. 1. 3. 1. 1.\n",
      " 6.] \n",
      "\n",
      "trials 6\n",
      "[1. 1. 1. 6. 7. 4. 5. 1. 7. 5. 2. 2. 4. 1. 1. 6. 1. 1. 2. 4. 2. 1. 1. 1.\n",
      " 1.] \n",
      "\n",
      "trials 7\n",
      "[1. 1. 1. 1. 2. 1. 1. 5. 3. 1. 3. 1. 1. 1. 1. 1. 1. 2. 1. 1. 1. 2. 1. 1.\n",
      " 1.] \n",
      "\n",
      "trials 8\n",
      "[1. 1. 5. 1. 1. 1. 4. 7. 4. 2. 4. 8. 8. 8. 1. 5. 7. 5. 6. 6. 2. 6. 9. 3.\n",
      " 8.] \n",
      "\n"
     ]
    }
   ],
   "source": [
    "# Initialize parameters and run optimization\n",
    "layers = [5]\n",
    "iters = 50\n",
    "trials = 20\n",
    "\n",
    "\n",
    "pvals = [0.01,0.005,0.001]\n",
    "\n",
    "for d in pvals:\n",
    "\n",
    "    # freeze threshold as the angle \n",
    "    freeze_threshold = d\n",
    "\n",
    "    for num_layers in layers:\n",
    "        for trial in range(trials):\n",
    "            print(\"trials\", trial+1)\n",
    "            num_gates = num_qubits * num_layers\n",
    "\n",
    "            freeze_iters = np.ones(num_gates)\n",
    "\n",
    "            init_n_vectors = [sample_axis() for _ in range(num_gates)]\n",
    "            init_vectors = [n / np.linalg.norm(n) for n in init_n_vectors]  # Normalize initial vectors\n",
    "            \n",
    "            optimal_n_vectors, opt_vals, rotation_axes, freeze_iters = fraxis_optimization(init_vectors, num_layers, iters, freeze_threshold,freeze_iters)\n",
    "            \n",
    "            print(freeze_iters, \"\\n\")\n",
    "            \n",
    "            file2 = f\"1DHeisenberg_{num_qubits}Q_Fraxis_GateFreeze_d{d}_FreezeIterInc_{iters}cycles_{num_layers}layers_{trials}trials_A.xlsx\"   \n",
    "            \n",
    "            if not os.path.exists(file2):\n",
    "                df2 = pd.DataFrame()\n",
    "                df2.to_excel(file2)\n",
    "\n",
    "            df2 = pd.read_excel(file2)\n",
    "\n",
    "            if len(df2.columns) < trials:\n",
    "                \n",
    "                df2[f\"col{len(df2.columns)}\"] = pd.Series(opt_vals)\n",
    "                df2.to_excel(file2,index = False)\n",
    "            else:\n",
    "                break\n",
    "        "
   ]
  },
  {
   "cell_type": "code",
   "execution_count": null,
   "metadata": {},
   "outputs": [],
   "source": []
  },
  {
   "cell_type": "code",
   "execution_count": null,
   "metadata": {},
   "outputs": [],
   "source": []
  }
 ],
 "metadata": {
  "kernelspec": {
   "display_name": "Python 3",
   "language": "python",
   "name": "python3"
  },
  "language_info": {
   "codemirror_mode": {
    "name": "ipython",
    "version": 3
   },
   "file_extension": ".py",
   "mimetype": "text/x-python",
   "name": "python",
   "nbconvert_exporter": "python",
   "pygments_lexer": "ipython3",
   "version": "3.11.9"
  }
 },
 "nbformat": 4,
 "nbformat_minor": 4
}
